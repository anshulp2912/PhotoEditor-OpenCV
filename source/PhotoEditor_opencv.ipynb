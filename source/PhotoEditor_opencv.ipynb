{
  "nbformat": 4,
  "nbformat_minor": 0,
  "metadata": {
    "colab": {
      "name": "PhotoEditor_opencv",
      "provenance": [],
      "collapsed_sections": [],
      "toc_visible": true,
      "authorship_tag": "ABX9TyNSsLhTYu/W6rYS0jqBd1nd",
      "include_colab_link": true
    },
    "kernelspec": {
      "name": "python3",
      "display_name": "Python 3"
    }
  },
  "cells": [
    {
      "cell_type": "markdown",
      "metadata": {
        "id": "view-in-github",
        "colab_type": "text"
      },
      "source": [
        "<a href=\"https://colab.research.google.com/github/anshulp2912/PhotoEditor-OpenCV/blob/master/source/PhotoEditor_opencv.ipynb\" target=\"_parent\"><img src=\"https://colab.research.google.com/assets/colab-badge.svg\" alt=\"Open In Colab\"/></a>"
      ]
    },
    {
      "cell_type": "markdown",
      "metadata": {
        "id": "Lly78rHT7K8C",
        "colab_type": "text"
      },
      "source": [
        "# <center><font color='red'>PHOTO EDITOR USING OPEN-CV COMMANDS</font></center>\n",
        "#### <center>Bring creativity to your photos</center>\n",
        "#### <center>Apply Instagram-like filters to your photos</center>\n",
        "\n",
        "<center>Checkout: github.com/anshulp2912/PhotoEditor-OpenCV</center>\n"
      ]
    },
    {
      "cell_type": "markdown",
      "metadata": {
        "id": "GMZc4xnGBq4c",
        "colab_type": "text"
      },
      "source": [
        "### Import Libraries"
      ]
    },
    {
      "cell_type": "code",
      "metadata": {
        "id": "0N2QzEhFr4vU",
        "colab_type": "code",
        "colab": {
          "base_uri": "https://localhost:8080/",
          "height": 709
        },
        "outputId": "317832ac-3e7d-4261-cd5b-19562e7bfc6a"
      },
      "source": [
        "!pip install gradio\n",
        "import cv2\n",
        "import numpy as np\n",
        "from google.colab.patches import cv2_imshow\n",
        "from PIL import Image \n",
        "import gradio as gr"
      ],
      "execution_count": 1,
      "outputs": [
        {
          "output_type": "stream",
          "text": [
            "Requirement already satisfied: gradio in /usr/local/lib/python3.6/dist-packages (1.1.9)\n",
            "Requirement already satisfied: numpy in /usr/local/lib/python3.6/dist-packages (from gradio) (1.18.5)\n",
            "Requirement already satisfied: paramiko in /usr/local/lib/python3.6/dist-packages (from gradio) (2.7.2)\n",
            "Requirement already satisfied: scikit-image in /usr/local/lib/python3.6/dist-packages (from gradio) (0.16.2)\n",
            "Requirement already satisfied: scipy in /usr/local/lib/python3.6/dist-packages (from gradio) (1.4.1)\n",
            "Requirement already satisfied: analytics-python in /usr/local/lib/python3.6/dist-packages (from gradio) (1.2.9)\n",
            "Requirement already satisfied: requests in /usr/local/lib/python3.6/dist-packages (from gradio) (2.23.0)\n",
            "Requirement already satisfied: pandas in /usr/local/lib/python3.6/dist-packages (from gradio) (1.0.5)\n",
            "Requirement already satisfied: IPython in /usr/local/lib/python3.6/dist-packages (from gradio) (5.5.0)\n",
            "Requirement already satisfied: bcrypt>=3.1.3 in /usr/local/lib/python3.6/dist-packages (from paramiko->gradio) (3.2.0)\n",
            "Requirement already satisfied: pynacl>=1.0.1 in /usr/local/lib/python3.6/dist-packages (from paramiko->gradio) (1.4.0)\n",
            "Requirement already satisfied: cryptography>=2.5 in /usr/local/lib/python3.6/dist-packages (from paramiko->gradio) (3.1)\n",
            "Requirement already satisfied: imageio>=2.3.0 in /usr/local/lib/python3.6/dist-packages (from scikit-image->gradio) (2.4.1)\n",
            "Requirement already satisfied: matplotlib!=3.0.0,>=2.0.0 in /usr/local/lib/python3.6/dist-packages (from scikit-image->gradio) (3.2.2)\n",
            "Requirement already satisfied: networkx>=2.0 in /usr/local/lib/python3.6/dist-packages (from scikit-image->gradio) (2.5)\n",
            "Requirement already satisfied: PyWavelets>=0.4.0 in /usr/local/lib/python3.6/dist-packages (from scikit-image->gradio) (1.1.1)\n",
            "Requirement already satisfied: pillow>=4.3.0 in /usr/local/lib/python3.6/dist-packages (from scikit-image->gradio) (7.0.0)\n",
            "Requirement already satisfied: python-dateutil>2.1 in /usr/local/lib/python3.6/dist-packages (from analytics-python->gradio) (2.8.1)\n",
            "Requirement already satisfied: six>=1.5 in /usr/local/lib/python3.6/dist-packages (from analytics-python->gradio) (1.15.0)\n",
            "Requirement already satisfied: certifi>=2017.4.17 in /usr/local/lib/python3.6/dist-packages (from requests->gradio) (2020.6.20)\n",
            "Requirement already satisfied: idna<3,>=2.5 in /usr/local/lib/python3.6/dist-packages (from requests->gradio) (2.10)\n",
            "Requirement already satisfied: urllib3!=1.25.0,!=1.25.1,<1.26,>=1.21.1 in /usr/local/lib/python3.6/dist-packages (from requests->gradio) (1.24.3)\n",
            "Requirement already satisfied: chardet<4,>=3.0.2 in /usr/local/lib/python3.6/dist-packages (from requests->gradio) (3.0.4)\n",
            "Requirement already satisfied: pytz>=2017.2 in /usr/local/lib/python3.6/dist-packages (from pandas->gradio) (2018.9)\n",
            "Requirement already satisfied: prompt-toolkit<2.0.0,>=1.0.4 in /usr/local/lib/python3.6/dist-packages (from IPython->gradio) (1.0.18)\n",
            "Requirement already satisfied: traitlets>=4.2 in /usr/local/lib/python3.6/dist-packages (from IPython->gradio) (4.3.3)\n",
            "Requirement already satisfied: decorator in /usr/local/lib/python3.6/dist-packages (from IPython->gradio) (4.4.2)\n",
            "Requirement already satisfied: pygments in /usr/local/lib/python3.6/dist-packages (from IPython->gradio) (2.1.3)\n",
            "Requirement already satisfied: setuptools>=18.5 in /usr/local/lib/python3.6/dist-packages (from IPython->gradio) (49.6.0)\n",
            "Requirement already satisfied: simplegeneric>0.8 in /usr/local/lib/python3.6/dist-packages (from IPython->gradio) (0.8.1)\n",
            "Requirement already satisfied: pexpect; sys_platform != \"win32\" in /usr/local/lib/python3.6/dist-packages (from IPython->gradio) (4.8.0)\n",
            "Requirement already satisfied: pickleshare in /usr/local/lib/python3.6/dist-packages (from IPython->gradio) (0.7.5)\n",
            "Requirement already satisfied: cffi>=1.1 in /usr/local/lib/python3.6/dist-packages (from bcrypt>=3.1.3->paramiko->gradio) (1.14.2)\n",
            "Requirement already satisfied: pyparsing!=2.0.4,!=2.1.2,!=2.1.6,>=2.0.1 in /usr/local/lib/python3.6/dist-packages (from matplotlib!=3.0.0,>=2.0.0->scikit-image->gradio) (2.4.7)\n",
            "Requirement already satisfied: kiwisolver>=1.0.1 in /usr/local/lib/python3.6/dist-packages (from matplotlib!=3.0.0,>=2.0.0->scikit-image->gradio) (1.2.0)\n",
            "Requirement already satisfied: cycler>=0.10 in /usr/local/lib/python3.6/dist-packages (from matplotlib!=3.0.0,>=2.0.0->scikit-image->gradio) (0.10.0)\n",
            "Requirement already satisfied: wcwidth in /usr/local/lib/python3.6/dist-packages (from prompt-toolkit<2.0.0,>=1.0.4->IPython->gradio) (0.2.5)\n",
            "Requirement already satisfied: ipython-genutils in /usr/local/lib/python3.6/dist-packages (from traitlets>=4.2->IPython->gradio) (0.2.0)\n",
            "Requirement already satisfied: ptyprocess>=0.5 in /usr/local/lib/python3.6/dist-packages (from pexpect; sys_platform != \"win32\"->IPython->gradio) (0.6.0)\n",
            "Requirement already satisfied: pycparser in /usr/local/lib/python3.6/dist-packages (from cffi>=1.1->bcrypt>=3.1.3->paramiko->gradio) (2.20)\n"
          ],
          "name": "stdout"
        }
      ]
    },
    {
      "cell_type": "markdown",
      "metadata": {
        "id": "pYaKlcIxBvGj",
        "colab_type": "text"
      },
      "source": [
        "## Define Functions for each Control and Effects"
      ]
    },
    {
      "cell_type": "markdown",
      "metadata": {
        "id": "V-I5gSyjB4Tx",
        "colab_type": "text"
      },
      "source": [
        "### Brightness Control"
      ]
    },
    {
      "cell_type": "code",
      "metadata": {
        "id": "hWyZgZXbs4-t",
        "colab_type": "code",
        "colab": {}
      },
      "source": [
        "def brightness_control(image_path,brightness):\n",
        "  brightness = int(((brightness + 127)*(127 + 127)/(100 + 100)) - 127)\n",
        "  image = cv2.imread(image_path)\n",
        "  if brightness > 0:\n",
        "      shadow = brightness\n",
        "      highlight = 255\n",
        "  else:\n",
        "      shadow = 0\n",
        "      highlight = 255 + brightness\n",
        "  alpha_b = (highlight - shadow)/255\n",
        "  gamma_b = shadow\n",
        "  \n",
        "  image = cv2.addWeighted(image, alpha_b, image, 0, gamma_b)\n",
        "  #cv2_imshow(image)\n",
        "  cv2.imwrite('temp.jpg',image)"
      ],
      "execution_count": 2,
      "outputs": []
    },
    {
      "cell_type": "markdown",
      "metadata": {
        "id": "DgnICxhPB797",
        "colab_type": "text"
      },
      "source": [
        "### Contrast Control"
      ]
    },
    {
      "cell_type": "code",
      "metadata": {
        "id": "j04YXWlfNL50",
        "colab_type": "code",
        "colab": {}
      },
      "source": [
        "def contrast_control(image_path, contrast):\n",
        "  contrast = int(((contrast + 64)*(64 + 64)/(100 + 100)) - 64)\n",
        "  image = cv2.imread(image_path)\n",
        "  if contrast != 0:\n",
        "    f = 131*(contrast + 127)/(127*(131-contrast))\n",
        "    alpha_c = f\n",
        "    gamma_c = 127*(1-f)\n",
        "    \n",
        "    image = cv2.addWeighted(image, alpha_c, image, 0, gamma_c)\n",
        "  #cv2_imshow(image)\n",
        "  cv2.imwrite('temp.jpg',image)"
      ],
      "execution_count": 3,
      "outputs": []
    },
    {
      "cell_type": "markdown",
      "metadata": {
        "id": "z-no5_wqB-5b",
        "colab_type": "text"
      },
      "source": [
        "### Saturation Control"
      ]
    },
    {
      "cell_type": "code",
      "metadata": {
        "id": "DzYzWu65s95r",
        "colab_type": "code",
        "colab": {}
      },
      "source": [
        "def saturation_control(image_path,value):\n",
        "  value = 1 + (value/100)\n",
        "  image = cv2.imread(image_path)\n",
        "  hsvImg = cv2.cvtColor(image,cv2.COLOR_BGR2HSV)\n",
        "  hsvImg[...,1] = hsvImg[...,1]*value\n",
        "  image=cv2.cvtColor(hsvImg,cv2.COLOR_HSV2BGR)\n",
        "  #cv2_imshow(image)\n",
        "  cv2.imwrite('temp.jpg',image)"
      ],
      "execution_count": 4,
      "outputs": []
    },
    {
      "cell_type": "markdown",
      "metadata": {
        "id": "n-saNuPxCBeA",
        "colab_type": "text"
      },
      "source": [
        "### Hue Control"
      ]
    },
    {
      "cell_type": "code",
      "metadata": {
        "id": "NtNpyZ4V90Ir",
        "colab_type": "code",
        "colab": {}
      },
      "source": [
        "def hue_control(image_path,value):\n",
        "  image = cv2.imread(image_path)\n",
        "  hsv = cv2.cvtColor(image, cv2.COLOR_BGR2HSV)\n",
        "  h, s, v = cv2.split(hsv)\n",
        "  h += value\n",
        "  final_hsv = cv2.merge((h, s, v))\n",
        "  image = cv2.cvtColor(final_hsv, cv2.COLOR_HSV2BGR)\n",
        "  #cv2_imshow(image)\n",
        "  cv2.imwrite('temp.jpg',image)"
      ],
      "execution_count": 5,
      "outputs": []
    },
    {
      "cell_type": "markdown",
      "metadata": {
        "id": "5Y2ONla7CDdT",
        "colab_type": "text"
      },
      "source": [
        "### Vignette Control"
      ]
    },
    {
      "cell_type": "code",
      "metadata": {
        "id": "ZdxU3xjjT6Vr",
        "colab_type": "code",
        "colab": {}
      },
      "source": [
        "def vignette_control(image_path,vignette):\n",
        "  vignette = int(175.00/((vignette)/(100.00)))\n",
        "  image = cv2.imread(image_path)\n",
        "  rows,cols = image.shape[:2]\n",
        "  zeros = np.copy(image)\n",
        "  zeros[:,:,:] = 0\n",
        "  a = cv2.getGaussianKernel(cols,vignette)\n",
        "  b = cv2.getGaussianKernel(rows,vignette)\n",
        "  c = b*a.T\n",
        "  d = c/c.max()\n",
        "  zeros[:,:,0] = image[:,:,0]*d\n",
        "  zeros[:,:,1] = image[:,:,1]*d\n",
        "  zeros[:,:,2] = image[:,:,2]*d\n",
        "  #cv2_imshow(zeros)\n",
        "  cv2.imwrite('temp.jpg',zeros)"
      ],
      "execution_count": 6,
      "outputs": []
    },
    {
      "cell_type": "markdown",
      "metadata": {
        "id": "vOtWv11X9N4b",
        "colab_type": "text"
      },
      "source": [
        "### Sharpen Control"
      ]
    },
    {
      "cell_type": "code",
      "metadata": {
        "id": "bQginMX89SQr",
        "colab_type": "code",
        "colab": {}
      },
      "source": [
        "def sharpen_control(image_path, amount):\n",
        "  amount = int(((amount - 1)*(3 - 1)/(100 - 0)) + 1)\n",
        "  image = cv2.imread(image_path)\n",
        "  kernel_size=(5, 5)\n",
        "  sigma=1.0 \n",
        "  threshold=0\n",
        "  blurred = cv2.GaussianBlur(image, kernel_size, sigma)\n",
        "  sharpened = float(amount + 1) * image - float(amount) * blurred\n",
        "  sharpened = np.maximum(sharpened, np.zeros(sharpened.shape))\n",
        "  sharpened = np.minimum(sharpened, 255 * np.ones(sharpened.shape))\n",
        "  sharpened = sharpened.round().astype(np.uint8)\n",
        "  if threshold > 0:\n",
        "      low_contrast_mask = np.absolute(image - blurred) < threshold\n",
        "      np.copyto(sharpened, image, where=low_contrast_mask)\n",
        "  #cv2_imshow(sharpened)\n",
        "  cv2.imwrite('temp.jpg',sharpened)"
      ],
      "execution_count": 7,
      "outputs": []
    },
    {
      "cell_type": "markdown",
      "metadata": {
        "id": "fFTnz2lNCGka",
        "colab_type": "text"
      },
      "source": [
        "### Cartoon Effect"
      ]
    },
    {
      "cell_type": "code",
      "metadata": {
        "id": "xAHFPHEhtIl0",
        "colab_type": "code",
        "colab": {}
      },
      "source": [
        "def cartoon_effect(image_path):\n",
        "  img_rgb = cv2.imread(image_path)\n",
        "  num_down = 2\n",
        "  num_bilateral = 7\n",
        "  img_color = img_rgb\n",
        "  for _ in range(num_down):\n",
        "    img_color = cv2.pyrDown(img_color)\n",
        "  for _ in range(num_bilateral):\n",
        "    img_color = cv2.bilateralFilter(img_color, d=9, sigmaColor=9, sigmaSpace=7)\n",
        "  for _ in range(num_down):\n",
        "    img_color = cv2.pyrUp(img_color)\n",
        "  img_gray = cv2.cvtColor(img_rgb, cv2.COLOR_RGB2GRAY)\n",
        "  img_blur = cv2.medianBlur(img_gray, 7)\n",
        "\n",
        "  img_edge = cv2.adaptiveThreshold(img_blur, 255, cv2.ADAPTIVE_THRESH_MEAN_C, cv2.THRESH_BINARY,\n",
        "                                  blockSize=9, C=2)\n",
        "  img_edge = cv2.cvtColor(img_edge, cv2.COLOR_GRAY2RGB)\n",
        "  img_cartoon = cv2.bitwise_and(img_color, img_edge)\n",
        "  #cv2_imshow(img_cartoon)\n",
        "  cv2.imwrite('temp.jpg',img_cartoon)"
      ],
      "execution_count": 8,
      "outputs": []
    },
    {
      "cell_type": "markdown",
      "metadata": {
        "id": "gMvmSsObCJst",
        "colab_type": "text"
      },
      "source": [
        "### Blur Effect"
      ]
    },
    {
      "cell_type": "code",
      "metadata": {
        "id": "4C9CRPyOU7Uz",
        "colab_type": "code",
        "colab": {}
      },
      "source": [
        "def blur_filter(image_path):\n",
        "  image = cv2.imread(image_path)\n",
        "  image = cv2.GaussianBlur(image,(5,5),cv2.BORDER_DEFAULT)\n",
        "  #cv2_imshow(image)\n",
        "  cv2.imwrite('temp.jpg',image)"
      ],
      "execution_count": 9,
      "outputs": []
    },
    {
      "cell_type": "markdown",
      "metadata": {
        "id": "ds6tnLvtCMPJ",
        "colab_type": "text"
      },
      "source": [
        "### Edge Effect"
      ]
    },
    {
      "cell_type": "code",
      "metadata": {
        "id": "FPSwpkf8VZx0",
        "colab_type": "code",
        "colab": {}
      },
      "source": [
        "def edge_filter(image_path):\n",
        "  image = cv2.imread(image_path)\n",
        "  image = cv2.Canny(image,100,300)\n",
        "  #cv2_imshow(image)\n",
        "  cv2.imwrite('temp.jpg',image)"
      ],
      "execution_count": 10,
      "outputs": []
    },
    {
      "cell_type": "markdown",
      "metadata": {
        "id": "R2sP2m1lCOBW",
        "colab_type": "text"
      },
      "source": [
        "### Vintage Effect"
      ]
    },
    {
      "cell_type": "code",
      "metadata": {
        "id": "-9D8DJNYV1S6",
        "colab_type": "code",
        "colab": {}
      },
      "source": [
        "def vintage_filter(image_path):\n",
        "  image = cv2.imread(image_path)\n",
        "  rows, cols = image.shape[:2]\n",
        "  # Create a Gaussian filter\n",
        "  kernel_x = cv2.getGaussianKernel(cols,200)\n",
        "  kernel_y = cv2.getGaussianKernel(rows,200)\n",
        "  kernel = kernel_y * kernel_x.T\n",
        "  filter = 255 * kernel / np.linalg.norm(kernel)\n",
        "  vintage_im = np.copy(image)\n",
        "  # for each channel in the input image, we will apply the above filter\n",
        "  for i in range(3):\n",
        "      vintage_im[:,:,i] = vintage_im[:,:,i] * filter\n",
        "  #cv2_imshow(vintage_im)\n",
        "  cv2.imwrite('temp.jpg',vintage_im)"
      ],
      "execution_count": 11,
      "outputs": []
    },
    {
      "cell_type": "markdown",
      "metadata": {
        "id": "YHa-Bm8nCQ0j",
        "colab_type": "text"
      },
      "source": [
        "### Black & White Effect"
      ]
    },
    {
      "cell_type": "code",
      "metadata": {
        "id": "rd5mTL5eKL52",
        "colab_type": "code",
        "colab": {}
      },
      "source": [
        "def blackwhite_filter(image_path):\n",
        "  image = cv2.imread(image_path, cv2.IMREAD_GRAYSCALE)\n",
        "  #cv2_imshow(image)\n",
        "  cv2.imwrite('temp.jpg',image)"
      ],
      "execution_count": 12,
      "outputs": []
    },
    {
      "cell_type": "markdown",
      "metadata": {
        "id": "fb-IxKGXCT2K",
        "colab_type": "text"
      },
      "source": [
        "### MonoChrome Effect"
      ]
    },
    {
      "cell_type": "code",
      "metadata": {
        "id": "GhY9WzqMMjcO",
        "colab_type": "code",
        "colab": {}
      },
      "source": [
        "def monochrome_filter(image_path):\n",
        "  image = cv2.imread(image_path, cv2.IMREAD_GRAYSCALE)\n",
        "  (thresh, im_bw) = cv2.threshold(image, 128, 255, cv2.THRESH_BINARY | cv2.THRESH_OTSU)\n",
        "  #cv2_imshow(im_bw)\n",
        "  cv2.imwrite('temp.jpg',im_bw)"
      ],
      "execution_count": 13,
      "outputs": []
    },
    {
      "cell_type": "markdown",
      "metadata": {
        "id": "XjuEpEHUGNbs",
        "colab_type": "text"
      },
      "source": [
        "### ADJUSTMENT AVAILABLE:\n",
        "- Brightness\n",
        "- Contrast\n",
        "- Saturation\n",
        "- Hue\n",
        "- Vignette\n",
        "- Sharpen<br>\n",
        "\n",
        "### EFFECTS AVAILABLE:\n",
        "- Cartoon\n",
        "- Edge\n",
        "- Vintage\n",
        "- Blur\n",
        "- Black & White\n",
        "- Monochrome\n"
      ]
    },
    {
      "cell_type": "markdown",
      "metadata": {
        "id": "yuQnPDQECWjB",
        "colab_type": "text"
      },
      "source": [
        "## PHOTO EDITOR MAIN FUNCTION"
      ]
    },
    {
      "cell_type": "code",
      "metadata": {
        "id": "1_bOe-NVHIU7",
        "colab_type": "code",
        "colab": {}
      },
      "source": [
        "def photoEditor(imageInput, brightnessValue, contrastValue, saturationValue, hueValue, vignetteValue, sharpenValue, effectList):\n",
        "  image_inp = Image.fromarray(imageInput)\n",
        "  image_inp.save(\"temp.jpg\") \n",
        "\n",
        "  image = cv2.imread(\"temp.jpg\")\n",
        "  image = cv2.resize(image,(800,800))\n",
        "  cv2.imwrite('temp.jpg', image)\n",
        "\n",
        "  if brightnessValue != 0.00:\n",
        "    brightness_control('temp.jpg',brightnessValue)\n",
        "\n",
        "  if contrastValue != 0.00:\n",
        "    contrast_control('temp.jpg',contrastValue)\n",
        "\n",
        "  if saturationValue != 0.00:\n",
        "    saturation_control('temp.jpg',saturationValue)\n",
        "\n",
        "  if hueValue != 0.00:\n",
        "    hue_control('temp.jpg',hueValue)\n",
        "\n",
        "  if vignetteValue != 0.00:\n",
        "    vignette_control('temp.jpg',vignetteValue)\n",
        "    \n",
        "  if sharpenValue != 0.00:\n",
        "    sharpen_control('temp.jpg',sharpenValue)\n",
        "\n",
        "  if len(effectList) != 0:\n",
        "    if 'Cartoon' in effectList:\n",
        "      cartoon_effect('temp.jpg')\n",
        "\n",
        "    if 'Edge' in effectList:\n",
        "      edge_filter('temp.jpg')\n",
        "\n",
        "    if 'Vintage' in effectList:\n",
        "      vintage_filter('temp.jpg')\n",
        "\n",
        "    if 'Blur' in effectList:\n",
        "      blur_filter('temp.jpg')\n",
        "\n",
        "    if 'Black & White' in effectList:\n",
        "      blackwhite_filter('temp.jpg')\n",
        "\n",
        "    if 'Monochrome' in effectList:\n",
        "      monochrome_filter('temp.jpg')\n",
        "\n",
        "  im = Image.open('temp.jpg')\n",
        "  return im"
      ],
      "execution_count": 14,
      "outputs": []
    },
    {
      "cell_type": "markdown",
      "metadata": {
        "id": "PZT6EcOOCb1n",
        "colab_type": "text"
      },
      "source": [
        "### GRADIO PARAMETERS"
      ]
    },
    {
      "cell_type": "code",
      "metadata": {
        "id": "2mgLi8tcI5vM",
        "colab_type": "code",
        "colab": {}
      },
      "source": [
        "imageInput = gr.inputs.Image(label='Upload an Image')\n",
        "brightnessSlider = gr.inputs.Slider(minimum=-100, maximum=100, default=0, label='Brightness')\n",
        "contrastSlider = gr.inputs.Slider(minimum=-100, maximum=100, default=0, label='Contrast')\n",
        "saturationSlider = gr.inputs.Slider(minimum=0, maximum=100, default=0, label='Saturation')\n",
        "hueSlider = gr.inputs.Slider(minimum=0, maximum=100, default=0, label='Hue')\n",
        "vignetteSlider = gr.inputs.Slider(minimum=0, maximum=100, default=0, label='Vignette')\n",
        "sharpenSlider = gr.inputs.Slider(minimum=0, maximum=100, default=0, label='Sharpen')\n",
        "effectCheckboxes = gr.inputs.CheckboxGroup([\"Cartoon\", \"Edge\", \"Vintage\", \"Blur\", \"Black & White\", \"Monochrome\"], label='Effects')\n",
        "imageOutput = gr.outputs.Image(label='Edited Image')"
      ],
      "execution_count": 15,
      "outputs": []
    },
    {
      "cell_type": "markdown",
      "metadata": {
        "id": "-P1e_K71Cevi",
        "colab_type": "text"
      },
      "source": [
        "### Launch PhotoEditor Interface"
      ]
    },
    {
      "cell_type": "code",
      "metadata": {
        "id": "VfLgGv7jI5sO",
        "colab_type": "code",
        "colab": {
          "base_uri": "https://localhost:8080/",
          "height": 622
        },
        "outputId": "e98645e8-0f53-49a8-bccb-afcd7cb7070c"
      },
      "source": [
        "gr.Interface(fn=photoEditor, \n",
        "             inputs=[imageInput, brightnessSlider, contrastSlider,\n",
        "                     saturationSlider, hueSlider, vignetteSlider, sharpenSlider, effectCheckboxes],\n",
        "            outputs=imageOutput, title='OpenCV PhotoEditor', description='Apply adjustments to your photo and make it go Glam!!. For more info, checkout github.com/anshulp2912/PhotoEditor-OpenCV ' ,allow_flagging=False, live=True).launch()"
      ],
      "execution_count": 16,
      "outputs": [
        {
          "output_type": "stream",
          "text": [
            "Colab notebook detected. To show errors in colab notebook, set debug=True in launch()\n",
            "Running on External URL: https://27947.gradio.app\n",
            "Interface loading below...\n"
          ],
          "name": "stdout"
        },
        {
          "output_type": "display_data",
          "data": {
            "text/html": [
              "\n",
              "        <iframe\n",
              "            width=\"1000\"\n",
              "            height=\"500\"\n",
              "            src=\"http://127.0.0.1:7860/\"\n",
              "            frameborder=\"0\"\n",
              "            allowfullscreen\n",
              "        ></iframe>\n",
              "        "
            ],
            "text/plain": [
              "<IPython.lib.display.IFrame at 0x7fbfa9fe1cf8>"
            ]
          },
          "metadata": {
            "tags": []
          }
        },
        {
          "output_type": "execute_result",
          "data": {
            "text/plain": [
              "(<gradio.networking.serve_files_in_background.<locals>.HTTPServer at 0x7fbfaacf7eb8>,\n",
              " 'http://127.0.0.1:7860/',\n",
              " 'https://27947.gradio.app')"
            ]
          },
          "metadata": {
            "tags": []
          },
          "execution_count": 16
        }
      ]
    },
    {
      "cell_type": "code",
      "metadata": {
        "id": "qtiG5wNxDSH6",
        "colab_type": "code",
        "colab": {}
      },
      "source": [
        ""
      ],
      "execution_count": null,
      "outputs": []
    }
  ]
}